{
 "cells": [
  {
   "cell_type": "code",
   "execution_count": 1,
   "id": "3904ec27",
   "metadata": {},
   "outputs": [],
   "source": [
    "import pandas as pd\n",
    "import numpy as np\n",
    "\n",
    "import seaborn as sns\n",
    "from matplotlib import pyplot as plt\n",
    "%matplotlib inline"
   ]
  },
  {
   "cell_type": "code",
   "execution_count": 18,
   "id": "00533eb8",
   "metadata": {},
   "outputs": [
    {
     "data": {
      "text/html": [
       "<div>\n",
       "<style scoped>\n",
       "    .dataframe tbody tr th:only-of-type {\n",
       "        vertical-align: middle;\n",
       "    }\n",
       "\n",
       "    .dataframe tbody tr th {\n",
       "        vertical-align: top;\n",
       "    }\n",
       "\n",
       "    .dataframe thead th {\n",
       "        text-align: right;\n",
       "    }\n",
       "</style>\n",
       "<table border=\"1\" class=\"dataframe\">\n",
       "  <thead>\n",
       "    <tr style=\"text-align: right;\">\n",
       "      <th></th>\n",
       "      <th>Make</th>\n",
       "      <th>Model</th>\n",
       "      <th>Year</th>\n",
       "      <th>Engine Fuel Type</th>\n",
       "      <th>Engine HP</th>\n",
       "      <th>Engine Cylinders</th>\n",
       "      <th>Transmission Type</th>\n",
       "      <th>Driven_Wheels</th>\n",
       "      <th>Number of Doors</th>\n",
       "      <th>Market Category</th>\n",
       "      <th>Vehicle Size</th>\n",
       "      <th>Vehicle Style</th>\n",
       "      <th>highway MPG</th>\n",
       "      <th>city mpg</th>\n",
       "      <th>Popularity</th>\n",
       "      <th>MSRP</th>\n",
       "    </tr>\n",
       "  </thead>\n",
       "  <tbody>\n",
       "    <tr>\n",
       "      <th>0</th>\n",
       "      <td>BMW</td>\n",
       "      <td>1 Series M</td>\n",
       "      <td>2011</td>\n",
       "      <td>premium unleaded (required)</td>\n",
       "      <td>335.0</td>\n",
       "      <td>6.0</td>\n",
       "      <td>MANUAL</td>\n",
       "      <td>rear wheel drive</td>\n",
       "      <td>2.0</td>\n",
       "      <td>Factory Tuner,Luxury,High-Performance</td>\n",
       "      <td>Compact</td>\n",
       "      <td>Coupe</td>\n",
       "      <td>26</td>\n",
       "      <td>19</td>\n",
       "      <td>3916</td>\n",
       "      <td>46135</td>\n",
       "    </tr>\n",
       "    <tr>\n",
       "      <th>1</th>\n",
       "      <td>BMW</td>\n",
       "      <td>1 Series</td>\n",
       "      <td>2011</td>\n",
       "      <td>premium unleaded (required)</td>\n",
       "      <td>300.0</td>\n",
       "      <td>6.0</td>\n",
       "      <td>MANUAL</td>\n",
       "      <td>rear wheel drive</td>\n",
       "      <td>2.0</td>\n",
       "      <td>Luxury,Performance</td>\n",
       "      <td>Compact</td>\n",
       "      <td>Convertible</td>\n",
       "      <td>28</td>\n",
       "      <td>19</td>\n",
       "      <td>3916</td>\n",
       "      <td>40650</td>\n",
       "    </tr>\n",
       "  </tbody>\n",
       "</table>\n",
       "</div>"
      ],
      "text/plain": [
       "  Make       Model  Year             Engine Fuel Type  Engine HP  \\\n",
       "0  BMW  1 Series M  2011  premium unleaded (required)      335.0   \n",
       "1  BMW    1 Series  2011  premium unleaded (required)      300.0   \n",
       "\n",
       "   Engine Cylinders Transmission Type     Driven_Wheels  Number of Doors  \\\n",
       "0               6.0            MANUAL  rear wheel drive              2.0   \n",
       "1               6.0            MANUAL  rear wheel drive              2.0   \n",
       "\n",
       "                         Market Category Vehicle Size Vehicle Style  \\\n",
       "0  Factory Tuner,Luxury,High-Performance      Compact         Coupe   \n",
       "1                     Luxury,Performance      Compact   Convertible   \n",
       "\n",
       "   highway MPG  city mpg  Popularity   MSRP  \n",
       "0           26        19        3916  46135  \n",
       "1           28        19        3916  40650  "
      ]
     },
     "execution_count": 18,
     "metadata": {},
     "output_type": "execute_result"
    }
   ],
   "source": [
    "df_carprice=pd.read_csv('data.txt')\n",
    "df_carprice.head(2)"
   ]
  },
  {
   "cell_type": "code",
   "execution_count": 3,
   "id": "09377021",
   "metadata": {},
   "outputs": [
    {
     "data": {
      "text/plain": [
       "11914"
      ]
     },
     "execution_count": 3,
     "metadata": {},
     "output_type": "execute_result"
    }
   ],
   "source": [
    "len(df_carprice)"
   ]
  },
  {
   "cell_type": "code",
   "execution_count": null,
   "id": "e227760c",
   "metadata": {},
   "outputs": [],
   "source": []
  },
  {
   "cell_type": "code",
   "execution_count": null,
   "id": "c7de9c1b",
   "metadata": {},
   "outputs": [],
   "source": []
  },
  {
   "cell_type": "markdown",
   "id": "a856e838",
   "metadata": {},
   "source": [
    "Features\n",
    "For the rest of the homework, you'll need to use only these columns:\n",
    "\n",
    "Make,\n",
    "Model,\n",
    "Year,\n",
    "Engine HP,\n",
    "Engine Cylinders,\n",
    "Transmission Type,\n",
    "Vehicle Style,\n",
    "highway MPG,\n",
    "city mpg,\n",
    "MSRP"
   ]
  },
  {
   "cell_type": "code",
   "execution_count": 20,
   "id": "c2694869",
   "metadata": {},
   "outputs": [],
   "source": [
    "df_carprice = df_carprice[[\n",
    "    'Make',\n",
    "    'Model',\n",
    "    'Year',\n",
    "    'Engine HP',\n",
    "    'Engine Cylinders',\n",
    "    'Transmission Type',\n",
    "    'Vehicle Style',\n",
    "    'highway MPG',\n",
    "    'city mpg',\n",
    "    'MSRP'\n",
    "]]"
   ]
  },
  {
   "cell_type": "code",
   "execution_count": 21,
   "id": "1fe6a6dc",
   "metadata": {},
   "outputs": [],
   "source": [
    "df_carprice.columns = df_carprice.columns.str.replace(' ', '_').str.lower()"
   ]
  },
  {
   "cell_type": "code",
   "execution_count": 9,
   "id": "c0bec607",
   "metadata": {},
   "outputs": [
    {
     "data": {
      "text/plain": [
       "make                  0\n",
       "model                 0\n",
       "year                  0\n",
       "engine_hp            69\n",
       "engine_cylinders     30\n",
       "transmission_type     0\n",
       "vehicle_style         0\n",
       "highway_mpg           0\n",
       "city_mpg              0\n",
       "msrp                  0\n",
       "dtype: int64"
      ]
     },
     "execution_count": 9,
     "metadata": {},
     "output_type": "execute_result"
    }
   ],
   "source": [
    "df_carprice.isnull().sum()"
   ]
  },
  {
   "cell_type": "code",
   "execution_count": 23,
   "id": "f447c4a8",
   "metadata": {},
   "outputs": [],
   "source": [
    "df_carprice=df_carprice.fillna(0)"
   ]
  },
  {
   "cell_type": "code",
   "execution_count": 12,
   "id": "d864ca7b",
   "metadata": {},
   "outputs": [
    {
     "data": {
      "text/plain": [
       "make                 0\n",
       "model                0\n",
       "year                 0\n",
       "engine_hp            0\n",
       "engine_cylinders     0\n",
       "transmission_type    0\n",
       "vehicle_style        0\n",
       "highway_mpg          0\n",
       "city_mpg             0\n",
       "msrp                 0\n",
       "dtype: int64"
      ]
     },
     "execution_count": 12,
     "metadata": {},
     "output_type": "execute_result"
    }
   ],
   "source": [
    "df_carprice.isnull().sum()"
   ]
  },
  {
   "cell_type": "code",
   "execution_count": 24,
   "id": "0371a1f9",
   "metadata": {},
   "outputs": [
    {
     "data": {
      "text/plain": [
       "pandas.core.frame.DataFrame"
      ]
     },
     "execution_count": 24,
     "metadata": {},
     "output_type": "execute_result"
    }
   ],
   "source": [
    "type(df_carprice)"
   ]
  },
  {
   "cell_type": "code",
   "execution_count": 25,
   "id": "9689906e",
   "metadata": {},
   "outputs": [],
   "source": [
    "df_carprice=df_carprice.rename(columns={'msrp':'price'})"
   ]
  },
  {
   "cell_type": "code",
   "execution_count": null,
   "id": "16a3fe65",
   "metadata": {},
   "outputs": [],
   "source": []
  },
  {
   "cell_type": "markdown",
   "id": "7bec7744",
   "metadata": {},
   "source": [
    "## Question 1\n",
    "What is the most frequent observation (mode) for the column transmission_type?\n",
    "\n",
    "AUTOMATIC\n",
    "MANUAL\n",
    "AUTOMATED_MANUAL\n",
    "DIRECT_DRIVE"
   ]
  },
  {
   "cell_type": "code",
   "execution_count": 26,
   "id": "b41129a4",
   "metadata": {},
   "outputs": [
    {
     "data": {
      "text/plain": [
       "0    AUTOMATIC\n",
       "Name: transmission_type, dtype: object"
      ]
     },
     "execution_count": 26,
     "metadata": {},
     "output_type": "execute_result"
    }
   ],
   "source": [
    "df_carprice.transmission_type.mode()"
   ]
  },
  {
   "cell_type": "code",
   "execution_count": 27,
   "id": "61cc4c32",
   "metadata": {},
   "outputs": [
    {
     "data": {
      "text/html": [
       "<div>\n",
       "<style scoped>\n",
       "    .dataframe tbody tr th:only-of-type {\n",
       "        vertical-align: middle;\n",
       "    }\n",
       "\n",
       "    .dataframe tbody tr th {\n",
       "        vertical-align: top;\n",
       "    }\n",
       "\n",
       "    .dataframe thead th {\n",
       "        text-align: right;\n",
       "    }\n",
       "</style>\n",
       "<table border=\"1\" class=\"dataframe\">\n",
       "  <thead>\n",
       "    <tr style=\"text-align: right;\">\n",
       "      <th></th>\n",
       "      <th>transmission_type</th>\n",
       "    </tr>\n",
       "    <tr>\n",
       "      <th>transmission_type</th>\n",
       "      <th></th>\n",
       "    </tr>\n",
       "  </thead>\n",
       "  <tbody>\n",
       "    <tr>\n",
       "      <th>AUTOMATED_MANUAL</th>\n",
       "      <td>626</td>\n",
       "    </tr>\n",
       "    <tr>\n",
       "      <th>AUTOMATIC</th>\n",
       "      <td>8266</td>\n",
       "    </tr>\n",
       "    <tr>\n",
       "      <th>DIRECT_DRIVE</th>\n",
       "      <td>68</td>\n",
       "    </tr>\n",
       "    <tr>\n",
       "      <th>MANUAL</th>\n",
       "      <td>2935</td>\n",
       "    </tr>\n",
       "    <tr>\n",
       "      <th>UNKNOWN</th>\n",
       "      <td>19</td>\n",
       "    </tr>\n",
       "  </tbody>\n",
       "</table>\n",
       "</div>"
      ],
      "text/plain": [
       "                   transmission_type\n",
       "transmission_type                   \n",
       "AUTOMATED_MANUAL                 626\n",
       "AUTOMATIC                       8266\n",
       "DIRECT_DRIVE                      68\n",
       "MANUAL                          2935\n",
       "UNKNOWN                           19"
      ]
     },
     "execution_count": 27,
     "metadata": {},
     "output_type": "execute_result"
    }
   ],
   "source": [
    "df_carprice.groupby(['transmission_type']).agg({'transmission_type':'count'})"
   ]
  },
  {
   "cell_type": "markdown",
   "id": "77adf4f5",
   "metadata": {},
   "source": [
    "#### Q1: Most frequent transmission type is Automatic"
   ]
  },
  {
   "cell_type": "code",
   "execution_count": null,
   "id": "8c90d2a2",
   "metadata": {},
   "outputs": [],
   "source": []
  },
  {
   "cell_type": "markdown",
   "id": "43a27bc2",
   "metadata": {},
   "source": [
    "## Question 2\n",
    "Create the correlation matrix for the numerical features of your dataset. In a correlation matrix, you compute the correlation coefficient between every pair of features in the dataset.\n",
    "\n",
    "What are the two features that have the biggest correlation in this dataset?\n",
    "\n",
    "engine_hp and year\n",
    "engine_hp and engine_cylinders\n",
    "highway_mpg and engine_cylinders\n",
    "highway_mpg and city_mpg"
   ]
  },
  {
   "cell_type": "code",
   "execution_count": 29,
   "id": "d0e98855",
   "metadata": {},
   "outputs": [
    {
     "name": "stdout",
     "output_type": "stream",
     "text": [
      "<class 'pandas.core.frame.DataFrame'>\n",
      "RangeIndex: 11914 entries, 0 to 11913\n",
      "Data columns (total 10 columns):\n",
      " #   Column             Non-Null Count  Dtype  \n",
      "---  ------             --------------  -----  \n",
      " 0   make               11914 non-null  object \n",
      " 1   model              11914 non-null  object \n",
      " 2   year               11914 non-null  int64  \n",
      " 3   engine_hp          11914 non-null  float64\n",
      " 4   engine_cylinders   11914 non-null  float64\n",
      " 5   transmission_type  11914 non-null  object \n",
      " 6   vehicle_style      11914 non-null  object \n",
      " 7   highway_mpg        11914 non-null  int64  \n",
      " 8   city_mpg           11914 non-null  int64  \n",
      " 9   price              11914 non-null  int64  \n",
      "dtypes: float64(2), int64(4), object(4)\n",
      "memory usage: 930.9+ KB\n"
     ]
    }
   ],
   "source": [
    "df_carprice.info()"
   ]
  },
  {
   "cell_type": "code",
   "execution_count": 31,
   "id": "5cca0427",
   "metadata": {},
   "outputs": [
    {
     "data": {
      "text/plain": [
       "year                1.000000\n",
       "engine_hp           0.338714\n",
       "engine_cylinders    0.040708\n",
       "highway_mpg         0.258240\n",
       "city_mpg            0.198171\n",
       "price               0.227590\n",
       "dtype: float64"
      ]
     },
     "execution_count": 31,
     "metadata": {},
     "output_type": "execute_result"
    }
   ],
   "source": [
    "numerical=['year','engine_hp', 'engine_cylinders', 'highway_mpg','city_mpg','price']\n",
    "\n",
    "df_carprice[numerical].corrwith(df_carprice.year).abs()"
   ]
  },
  {
   "cell_type": "code",
   "execution_count": 32,
   "id": "02578f27",
   "metadata": {},
   "outputs": [
    {
     "data": {
      "text/plain": [
       "year                0.338714\n",
       "engine_hp           1.000000\n",
       "engine_cylinders    0.774851\n",
       "highway_mpg         0.415707\n",
       "city_mpg            0.424918\n",
       "price               0.650095\n",
       "dtype: float64"
      ]
     },
     "execution_count": 32,
     "metadata": {},
     "output_type": "execute_result"
    }
   ],
   "source": [
    "df_carprice[numerical].corrwith(df_carprice.engine_hp).abs()"
   ]
  },
  {
   "cell_type": "code",
   "execution_count": 33,
   "id": "df41cfa3",
   "metadata": {},
   "outputs": [
    {
     "data": {
      "text/plain": [
       "year                0.040708\n",
       "engine_hp           0.774851\n",
       "engine_cylinders    1.000000\n",
       "highway_mpg         0.614541\n",
       "city_mpg            0.587306\n",
       "price               0.526274\n",
       "dtype: float64"
      ]
     },
     "execution_count": 33,
     "metadata": {},
     "output_type": "execute_result"
    }
   ],
   "source": [
    "df_carprice[numerical].corrwith(df_carprice.engine_cylinders).abs()"
   ]
  },
  {
   "cell_type": "code",
   "execution_count": 34,
   "id": "77ddc9b6",
   "metadata": {},
   "outputs": [
    {
     "data": {
      "text/plain": [
       "year                0.258240\n",
       "engine_hp           0.415707\n",
       "engine_cylinders    0.614541\n",
       "highway_mpg         1.000000\n",
       "city_mpg            0.886829\n",
       "price               0.160043\n",
       "dtype: float64"
      ]
     },
     "execution_count": 34,
     "metadata": {},
     "output_type": "execute_result"
    }
   ],
   "source": [
    "df_carprice[numerical].corrwith(df_carprice.highway_mpg).abs()"
   ]
  },
  {
   "cell_type": "code",
   "execution_count": 36,
   "id": "d4388a18",
   "metadata": {},
   "outputs": [
    {
     "data": {
      "text/plain": [
       "year                0.198171\n",
       "engine_hp           0.424918\n",
       "engine_cylinders    0.587306\n",
       "highway_mpg         0.886829\n",
       "city_mpg            1.000000\n",
       "price               0.157676\n",
       "dtype: float64"
      ]
     },
     "execution_count": 36,
     "metadata": {},
     "output_type": "execute_result"
    }
   ],
   "source": [
    "df_carprice[numerical].corrwith(df_carprice.city_mpg).abs()"
   ]
  },
  {
   "cell_type": "code",
   "execution_count": 37,
   "id": "04e80f7b",
   "metadata": {},
   "outputs": [
    {
     "data": {
      "text/plain": [
       "year                0.227590\n",
       "engine_hp           0.650095\n",
       "engine_cylinders    0.526274\n",
       "highway_mpg         0.160043\n",
       "city_mpg            0.157676\n",
       "price               1.000000\n",
       "dtype: float64"
      ]
     },
     "execution_count": 37,
     "metadata": {},
     "output_type": "execute_result"
    }
   ],
   "source": [
    "df_carprice[numerical].corrwith(df_carprice.price).abs()"
   ]
  },
  {
   "cell_type": "markdown",
   "id": "8d5f66a9",
   "metadata": {},
   "source": [
    "#### Q2: Biggest correlation is highway_mpg and city_mpg"
   ]
  },
  {
   "cell_type": "code",
   "execution_count": null,
   "id": "084f8774",
   "metadata": {},
   "outputs": [],
   "source": []
  },
  {
   "cell_type": "code",
   "execution_count": 38,
   "id": "36862336",
   "metadata": {},
   "outputs": [
    {
     "data": {
      "text/plain": [
       "40594.737032063116"
      ]
     },
     "execution_count": 38,
     "metadata": {},
     "output_type": "execute_result"
    }
   ],
   "source": [
    "mean_price=df_carprice.price.mean()\n",
    "mean_price"
   ]
  },
  {
   "cell_type": "code",
   "execution_count": 40,
   "id": "95371afe",
   "metadata": {},
   "outputs": [],
   "source": [
    "def above_average(row):\n",
    "    if row['price'] > mean_price:\n",
    "        return 1\n",
    "    else:\n",
    "        return 0"
   ]
  },
  {
   "cell_type": "code",
   "execution_count": 41,
   "id": "695ca221",
   "metadata": {},
   "outputs": [],
   "source": [
    "df_carprice['above_average'] = df_carprice.apply(above_average, axis=1)"
   ]
  },
  {
   "cell_type": "code",
   "execution_count": 42,
   "id": "612fd05d",
   "metadata": {},
   "outputs": [
    {
     "data": {
      "text/html": [
       "<div>\n",
       "<style scoped>\n",
       "    .dataframe tbody tr th:only-of-type {\n",
       "        vertical-align: middle;\n",
       "    }\n",
       "\n",
       "    .dataframe tbody tr th {\n",
       "        vertical-align: top;\n",
       "    }\n",
       "\n",
       "    .dataframe thead th {\n",
       "        text-align: right;\n",
       "    }\n",
       "</style>\n",
       "<table border=\"1\" class=\"dataframe\">\n",
       "  <thead>\n",
       "    <tr style=\"text-align: right;\">\n",
       "      <th></th>\n",
       "      <th>make</th>\n",
       "      <th>model</th>\n",
       "      <th>year</th>\n",
       "      <th>engine_hp</th>\n",
       "      <th>engine_cylinders</th>\n",
       "      <th>transmission_type</th>\n",
       "      <th>vehicle_style</th>\n",
       "      <th>highway_mpg</th>\n",
       "      <th>city_mpg</th>\n",
       "      <th>price</th>\n",
       "      <th>above_average</th>\n",
       "    </tr>\n",
       "  </thead>\n",
       "  <tbody>\n",
       "    <tr>\n",
       "      <th>0</th>\n",
       "      <td>BMW</td>\n",
       "      <td>1 Series M</td>\n",
       "      <td>2011</td>\n",
       "      <td>335.0</td>\n",
       "      <td>6.0</td>\n",
       "      <td>MANUAL</td>\n",
       "      <td>Coupe</td>\n",
       "      <td>26</td>\n",
       "      <td>19</td>\n",
       "      <td>46135</td>\n",
       "      <td>1</td>\n",
       "    </tr>\n",
       "    <tr>\n",
       "      <th>1</th>\n",
       "      <td>BMW</td>\n",
       "      <td>1 Series</td>\n",
       "      <td>2011</td>\n",
       "      <td>300.0</td>\n",
       "      <td>6.0</td>\n",
       "      <td>MANUAL</td>\n",
       "      <td>Convertible</td>\n",
       "      <td>28</td>\n",
       "      <td>19</td>\n",
       "      <td>40650</td>\n",
       "      <td>1</td>\n",
       "    </tr>\n",
       "    <tr>\n",
       "      <th>2</th>\n",
       "      <td>BMW</td>\n",
       "      <td>1 Series</td>\n",
       "      <td>2011</td>\n",
       "      <td>300.0</td>\n",
       "      <td>6.0</td>\n",
       "      <td>MANUAL</td>\n",
       "      <td>Coupe</td>\n",
       "      <td>28</td>\n",
       "      <td>20</td>\n",
       "      <td>36350</td>\n",
       "      <td>0</td>\n",
       "    </tr>\n",
       "    <tr>\n",
       "      <th>3</th>\n",
       "      <td>BMW</td>\n",
       "      <td>1 Series</td>\n",
       "      <td>2011</td>\n",
       "      <td>230.0</td>\n",
       "      <td>6.0</td>\n",
       "      <td>MANUAL</td>\n",
       "      <td>Coupe</td>\n",
       "      <td>28</td>\n",
       "      <td>18</td>\n",
       "      <td>29450</td>\n",
       "      <td>0</td>\n",
       "    </tr>\n",
       "    <tr>\n",
       "      <th>4</th>\n",
       "      <td>BMW</td>\n",
       "      <td>1 Series</td>\n",
       "      <td>2011</td>\n",
       "      <td>230.0</td>\n",
       "      <td>6.0</td>\n",
       "      <td>MANUAL</td>\n",
       "      <td>Convertible</td>\n",
       "      <td>28</td>\n",
       "      <td>18</td>\n",
       "      <td>34500</td>\n",
       "      <td>0</td>\n",
       "    </tr>\n",
       "  </tbody>\n",
       "</table>\n",
       "</div>"
      ],
      "text/plain": [
       "  make       model  year  engine_hp  engine_cylinders transmission_type  \\\n",
       "0  BMW  1 Series M  2011      335.0               6.0            MANUAL   \n",
       "1  BMW    1 Series  2011      300.0               6.0            MANUAL   \n",
       "2  BMW    1 Series  2011      300.0               6.0            MANUAL   \n",
       "3  BMW    1 Series  2011      230.0               6.0            MANUAL   \n",
       "4  BMW    1 Series  2011      230.0               6.0            MANUAL   \n",
       "\n",
       "  vehicle_style  highway_mpg  city_mpg  price  above_average  \n",
       "0         Coupe           26        19  46135              1  \n",
       "1   Convertible           28        19  40650              1  \n",
       "2         Coupe           28        20  36350              0  \n",
       "3         Coupe           28        18  29450              0  \n",
       "4   Convertible           28        18  34500              0  "
      ]
     },
     "execution_count": 42,
     "metadata": {},
     "output_type": "execute_result"
    }
   ],
   "source": [
    "df_carprice.head()"
   ]
  },
  {
   "cell_type": "code",
   "execution_count": null,
   "id": "c299e014",
   "metadata": {},
   "outputs": [],
   "source": []
  },
  {
   "cell_type": "code",
   "execution_count": 44,
   "id": "a577900a",
   "metadata": {},
   "outputs": [],
   "source": [
    "from sklearn.model_selection import train_test_split"
   ]
  },
  {
   "cell_type": "code",
   "execution_count": 67,
   "id": "0cfc9d40",
   "metadata": {},
   "outputs": [],
   "source": [
    "df_full_train, df_test = train_test_split(df_carprice, test_size=0.2, random_state=47)\n",
    "df_train, df_val = train_test_split(df_full_train, test_size=0.25, random_state=47)"
   ]
  },
  {
   "cell_type": "code",
   "execution_count": 68,
   "id": "2ff27ff5",
   "metadata": {},
   "outputs": [],
   "source": [
    "df_train = df_train.reset_index(drop=True)\n",
    "df_val = df_val.reset_index(drop=True)\n",
    "df_test = df_test.reset_index(drop=True)"
   ]
  },
  {
   "cell_type": "code",
   "execution_count": 69,
   "id": "1f51c7ed",
   "metadata": {},
   "outputs": [],
   "source": [
    "y_train = df_train.above_average.values\n",
    "y_val = df_val.above_average.values\n",
    "y_test = df_test.above_average.values\n",
    "\n",
    "df_train2=df_train.copy()\n",
    "\n",
    "del df_train['above_average']\n",
    "del df_val['above_average']\n",
    "del df_test['above_average']\n",
    "\n",
    "del df_train['price']\n",
    "del df_val['price']\n",
    "del df_test['price']"
   ]
  },
  {
   "cell_type": "code",
   "execution_count": null,
   "id": "dd4857ff",
   "metadata": {},
   "outputs": [],
   "source": []
  },
  {
   "cell_type": "markdown",
   "id": "2ef88902",
   "metadata": {},
   "source": [
    "## Question 3\n",
    "Calculate the mutual information score between above_average and other categorical variables in our dataset. Use the training set only.\n",
    "Round the scores to 2 decimals using round(score, 2).\n",
    "Which of these variables has the lowest mutual information score?\n",
    "\n",
    "make\n",
    "model\n",
    "transmission_type\n",
    "vehicle_style"
   ]
  },
  {
   "cell_type": "code",
   "execution_count": 61,
   "id": "4fecff9c",
   "metadata": {},
   "outputs": [
    {
     "name": "stdout",
     "output_type": "stream",
     "text": [
      "<class 'pandas.core.frame.DataFrame'>\n",
      "RangeIndex: 11914 entries, 0 to 11913\n",
      "Data columns (total 11 columns):\n",
      " #   Column             Non-Null Count  Dtype  \n",
      "---  ------             --------------  -----  \n",
      " 0   make               11914 non-null  object \n",
      " 1   model              11914 non-null  object \n",
      " 2   year               11914 non-null  int64  \n",
      " 3   engine_hp          11914 non-null  float64\n",
      " 4   engine_cylinders   11914 non-null  float64\n",
      " 5   transmission_type  11914 non-null  object \n",
      " 6   vehicle_style      11914 non-null  object \n",
      " 7   highway_mpg        11914 non-null  int64  \n",
      " 8   city_mpg           11914 non-null  int64  \n",
      " 9   price              11914 non-null  int64  \n",
      " 10  above_average      11914 non-null  int64  \n",
      "dtypes: float64(2), int64(5), object(4)\n",
      "memory usage: 1024.0+ KB\n"
     ]
    }
   ],
   "source": [
    "df_carprice.info()"
   ]
  },
  {
   "cell_type": "code",
   "execution_count": 62,
   "id": "8a96c9e5",
   "metadata": {},
   "outputs": [],
   "source": [
    "categorical=['make', 'model', 'transmission_type', 'vehicle_style']"
   ]
  },
  {
   "cell_type": "code",
   "execution_count": 59,
   "id": "788f1e4e",
   "metadata": {},
   "outputs": [],
   "source": [
    "from sklearn.metrics import mutual_info_score"
   ]
  },
  {
   "cell_type": "code",
   "execution_count": 70,
   "id": "9f8b08cc",
   "metadata": {},
   "outputs": [],
   "source": [
    "def mutual_info_above_average_score(series):\n",
    "    return mutual_info_score(series, df_train2.above_average)"
   ]
  },
  {
   "cell_type": "code",
   "execution_count": 72,
   "id": "00aa376b",
   "metadata": {},
   "outputs": [
    {
     "data": {
      "text/plain": [
       "model                0.46\n",
       "make                 0.24\n",
       "vehicle_style        0.09\n",
       "transmission_type    0.02\n",
       "dtype: float64"
      ]
     },
     "execution_count": 72,
     "metadata": {},
     "output_type": "execute_result"
    }
   ],
   "source": [
    "mi = df_train2[categorical].apply(mutual_info_above_average_score)\n",
    "round(mi.sort_values(ascending=False),2)"
   ]
  },
  {
   "cell_type": "markdown",
   "id": "f408a6aa",
   "metadata": {},
   "source": [
    "#### Q3: the lowest mutual information score is transmission_type"
   ]
  },
  {
   "cell_type": "code",
   "execution_count": null,
   "id": "cbfbb170",
   "metadata": {},
   "outputs": [],
   "source": []
  },
  {
   "cell_type": "markdown",
   "id": "68c58431",
   "metadata": {},
   "source": [
    "## Question 4\n",
    "Now let's train a logistic regression.\n",
    "Remember that we have several categorical variables in the dataset. Include them using one-hot encoding.\n",
    "\n",
    "Fit the model on the training dataset.\n",
    "To make sure the results are reproducible across different versions of Scikit-Learn, fit the model with these parameters:\n",
    "model = LogisticRegression(solver='liblinear', C=10, max_iter=1000, random_state=42)\n",
    "Calculate the accuracy on the validation dataset and round it to 2 decimal digits.\n",
    "What accuracy did you get?\n",
    "\n",
    "0.60\n",
    "0.72\n",
    "0.84\n",
    "0.95"
   ]
  },
  {
   "cell_type": "code",
   "execution_count": null,
   "id": "913101e9",
   "metadata": {},
   "outputs": [],
   "source": []
  },
  {
   "cell_type": "code",
   "execution_count": 73,
   "id": "ac69708f",
   "metadata": {},
   "outputs": [],
   "source": [
    "from sklearn.feature_extraction import DictVectorizer"
   ]
  },
  {
   "cell_type": "code",
   "execution_count": 75,
   "id": "f2e93189",
   "metadata": {},
   "outputs": [],
   "source": [
    "categorical=['make', 'model', 'transmission_type', 'vehicle_style']\n",
    "numerical=['year','engine_hp', 'engine_cylinders', 'highway_mpg','city_mpg']"
   ]
  },
  {
   "cell_type": "code",
   "execution_count": 76,
   "id": "a74198b7",
   "metadata": {},
   "outputs": [],
   "source": [
    "dv = DictVectorizer(sparse=False)\n",
    "\n",
    "train_dict = df_train[categorical + numerical].to_dict(orient='records')\n",
    "X_train = dv.fit_transform(train_dict)\n",
    "\n",
    "val_dict = df_val[categorical + numerical].to_dict(orient='records')\n",
    "X_val = dv.transform(val_dict)"
   ]
  },
  {
   "cell_type": "code",
   "execution_count": 78,
   "id": "dc04f576",
   "metadata": {},
   "outputs": [
    {
     "data": {
      "text/plain": [
       "{'make': 'Volvo',\n",
       " 'model': 'C30',\n",
       " 'transmission_type': 'MANUAL',\n",
       " 'vehicle_style': '2dr Hatchback',\n",
       " 'year': 2013,\n",
       " 'engine_hp': 227.0,\n",
       " 'engine_cylinders': 5.0,\n",
       " 'highway_mpg': 29,\n",
       " 'city_mpg': 21}"
      ]
     },
     "execution_count": 78,
     "metadata": {},
     "output_type": "execute_result"
    }
   ],
   "source": [
    "train_dict[1]"
   ]
  },
  {
   "cell_type": "code",
   "execution_count": null,
   "id": "bdea4661",
   "metadata": {},
   "outputs": [],
   "source": []
  },
  {
   "cell_type": "code",
   "execution_count": 81,
   "id": "c7fdb312",
   "metadata": {},
   "outputs": [],
   "source": [
    "from sklearn.linear_model import LogisticRegression"
   ]
  },
  {
   "cell_type": "code",
   "execution_count": 82,
   "id": "fe2ffab2",
   "metadata": {},
   "outputs": [
    {
     "data": {
      "text/html": [
       "<style>#sk-container-id-1 {color: black;background-color: white;}#sk-container-id-1 pre{padding: 0;}#sk-container-id-1 div.sk-toggleable {background-color: white;}#sk-container-id-1 label.sk-toggleable__label {cursor: pointer;display: block;width: 100%;margin-bottom: 0;padding: 0.3em;box-sizing: border-box;text-align: center;}#sk-container-id-1 label.sk-toggleable__label-arrow:before {content: \"▸\";float: left;margin-right: 0.25em;color: #696969;}#sk-container-id-1 label.sk-toggleable__label-arrow:hover:before {color: black;}#sk-container-id-1 div.sk-estimator:hover label.sk-toggleable__label-arrow:before {color: black;}#sk-container-id-1 div.sk-toggleable__content {max-height: 0;max-width: 0;overflow: hidden;text-align: left;background-color: #f0f8ff;}#sk-container-id-1 div.sk-toggleable__content pre {margin: 0.2em;color: black;border-radius: 0.25em;background-color: #f0f8ff;}#sk-container-id-1 input.sk-toggleable__control:checked~div.sk-toggleable__content {max-height: 200px;max-width: 100%;overflow: auto;}#sk-container-id-1 input.sk-toggleable__control:checked~label.sk-toggleable__label-arrow:before {content: \"▾\";}#sk-container-id-1 div.sk-estimator input.sk-toggleable__control:checked~label.sk-toggleable__label {background-color: #d4ebff;}#sk-container-id-1 div.sk-label input.sk-toggleable__control:checked~label.sk-toggleable__label {background-color: #d4ebff;}#sk-container-id-1 input.sk-hidden--visually {border: 0;clip: rect(1px 1px 1px 1px);clip: rect(1px, 1px, 1px, 1px);height: 1px;margin: -1px;overflow: hidden;padding: 0;position: absolute;width: 1px;}#sk-container-id-1 div.sk-estimator {font-family: monospace;background-color: #f0f8ff;border: 1px dotted black;border-radius: 0.25em;box-sizing: border-box;margin-bottom: 0.5em;}#sk-container-id-1 div.sk-estimator:hover {background-color: #d4ebff;}#sk-container-id-1 div.sk-parallel-item::after {content: \"\";width: 100%;border-bottom: 1px solid gray;flex-grow: 1;}#sk-container-id-1 div.sk-label:hover label.sk-toggleable__label {background-color: #d4ebff;}#sk-container-id-1 div.sk-serial::before {content: \"\";position: absolute;border-left: 1px solid gray;box-sizing: border-box;top: 0;bottom: 0;left: 50%;z-index: 0;}#sk-container-id-1 div.sk-serial {display: flex;flex-direction: column;align-items: center;background-color: white;padding-right: 0.2em;padding-left: 0.2em;position: relative;}#sk-container-id-1 div.sk-item {position: relative;z-index: 1;}#sk-container-id-1 div.sk-parallel {display: flex;align-items: stretch;justify-content: center;background-color: white;position: relative;}#sk-container-id-1 div.sk-item::before, #sk-container-id-1 div.sk-parallel-item::before {content: \"\";position: absolute;border-left: 1px solid gray;box-sizing: border-box;top: 0;bottom: 0;left: 50%;z-index: -1;}#sk-container-id-1 div.sk-parallel-item {display: flex;flex-direction: column;z-index: 1;position: relative;background-color: white;}#sk-container-id-1 div.sk-parallel-item:first-child::after {align-self: flex-end;width: 50%;}#sk-container-id-1 div.sk-parallel-item:last-child::after {align-self: flex-start;width: 50%;}#sk-container-id-1 div.sk-parallel-item:only-child::after {width: 0;}#sk-container-id-1 div.sk-dashed-wrapped {border: 1px dashed gray;margin: 0 0.4em 0.5em 0.4em;box-sizing: border-box;padding-bottom: 0.4em;background-color: white;}#sk-container-id-1 div.sk-label label {font-family: monospace;font-weight: bold;display: inline-block;line-height: 1.2em;}#sk-container-id-1 div.sk-label-container {text-align: center;}#sk-container-id-1 div.sk-container {/* jupyter's `normalize.less` sets `[hidden] { display: none; }` but bootstrap.min.css set `[hidden] { display: none !important; }` so we also need the `!important` here to be able to override the default hidden behavior on the sphinx rendered scikit-learn.org. See: https://github.com/scikit-learn/scikit-learn/issues/21755 */display: inline-block !important;position: relative;}#sk-container-id-1 div.sk-text-repr-fallback {display: none;}</style><div id=\"sk-container-id-1\" class=\"sk-top-container\"><div class=\"sk-text-repr-fallback\"><pre>LogisticRegression(C=10, max_iter=1000, random_state=42, solver=&#x27;liblinear&#x27;)</pre><b>In a Jupyter environment, please rerun this cell to show the HTML representation or trust the notebook. <br />On GitHub, the HTML representation is unable to render, please try loading this page with nbviewer.org.</b></div><div class=\"sk-container\" hidden><div class=\"sk-item\"><div class=\"sk-estimator sk-toggleable\"><input class=\"sk-toggleable__control sk-hidden--visually\" id=\"sk-estimator-id-1\" type=\"checkbox\" checked><label for=\"sk-estimator-id-1\" class=\"sk-toggleable__label sk-toggleable__label-arrow\">LogisticRegression</label><div class=\"sk-toggleable__content\"><pre>LogisticRegression(C=10, max_iter=1000, random_state=42, solver=&#x27;liblinear&#x27;)</pre></div></div></div></div></div>"
      ],
      "text/plain": [
       "LogisticRegression(C=10, max_iter=1000, random_state=42, solver='liblinear')"
      ]
     },
     "execution_count": 82,
     "metadata": {},
     "output_type": "execute_result"
    }
   ],
   "source": [
    "model = LogisticRegression(solver='liblinear', C=10, max_iter=1000, random_state=42)\n",
    "model.fit(X_train, y_train)"
   ]
  },
  {
   "cell_type": "code",
   "execution_count": 84,
   "id": "bc5ea0b1",
   "metadata": {},
   "outputs": [],
   "source": [
    "y_pred = model.predict_proba(X_val)[:, 1]"
   ]
  },
  {
   "cell_type": "code",
   "execution_count": 86,
   "id": "45a97f85",
   "metadata": {},
   "outputs": [],
   "source": [
    "decision = (y_pred >= 0.5)"
   ]
  },
  {
   "cell_type": "code",
   "execution_count": 87,
   "id": "491e5875",
   "metadata": {},
   "outputs": [],
   "source": [
    "df_pred = pd.DataFrame()\n",
    "df_pred['probability'] = y_pred\n",
    "df_pred['prediction'] = decision.astype(int)\n",
    "df_pred['actual'] = y_val"
   ]
  },
  {
   "cell_type": "code",
   "execution_count": 88,
   "id": "72d8362f",
   "metadata": {},
   "outputs": [
    {
     "data": {
      "text/html": [
       "<div>\n",
       "<style scoped>\n",
       "    .dataframe tbody tr th:only-of-type {\n",
       "        vertical-align: middle;\n",
       "    }\n",
       "\n",
       "    .dataframe tbody tr th {\n",
       "        vertical-align: top;\n",
       "    }\n",
       "\n",
       "    .dataframe thead th {\n",
       "        text-align: right;\n",
       "    }\n",
       "</style>\n",
       "<table border=\"1\" class=\"dataframe\">\n",
       "  <thead>\n",
       "    <tr style=\"text-align: right;\">\n",
       "      <th></th>\n",
       "      <th>probability</th>\n",
       "      <th>prediction</th>\n",
       "      <th>actual</th>\n",
       "    </tr>\n",
       "  </thead>\n",
       "  <tbody>\n",
       "    <tr>\n",
       "      <th>0</th>\n",
       "      <td>0.060901</td>\n",
       "      <td>0</td>\n",
       "      <td>0</td>\n",
       "    </tr>\n",
       "    <tr>\n",
       "      <th>1</th>\n",
       "      <td>0.821598</td>\n",
       "      <td>1</td>\n",
       "      <td>1</td>\n",
       "    </tr>\n",
       "    <tr>\n",
       "      <th>2</th>\n",
       "      <td>0.000151</td>\n",
       "      <td>0</td>\n",
       "      <td>0</td>\n",
       "    </tr>\n",
       "    <tr>\n",
       "      <th>3</th>\n",
       "      <td>0.010014</td>\n",
       "      <td>0</td>\n",
       "      <td>0</td>\n",
       "    </tr>\n",
       "    <tr>\n",
       "      <th>4</th>\n",
       "      <td>0.988829</td>\n",
       "      <td>1</td>\n",
       "      <td>1</td>\n",
       "    </tr>\n",
       "    <tr>\n",
       "      <th>...</th>\n",
       "      <td>...</td>\n",
       "      <td>...</td>\n",
       "      <td>...</td>\n",
       "    </tr>\n",
       "    <tr>\n",
       "      <th>2378</th>\n",
       "      <td>0.136490</td>\n",
       "      <td>0</td>\n",
       "      <td>1</td>\n",
       "    </tr>\n",
       "    <tr>\n",
       "      <th>2379</th>\n",
       "      <td>0.168751</td>\n",
       "      <td>0</td>\n",
       "      <td>0</td>\n",
       "    </tr>\n",
       "    <tr>\n",
       "      <th>2380</th>\n",
       "      <td>0.015749</td>\n",
       "      <td>0</td>\n",
       "      <td>0</td>\n",
       "    </tr>\n",
       "    <tr>\n",
       "      <th>2381</th>\n",
       "      <td>0.002382</td>\n",
       "      <td>0</td>\n",
       "      <td>0</td>\n",
       "    </tr>\n",
       "    <tr>\n",
       "      <th>2382</th>\n",
       "      <td>0.147067</td>\n",
       "      <td>0</td>\n",
       "      <td>0</td>\n",
       "    </tr>\n",
       "  </tbody>\n",
       "</table>\n",
       "<p>2383 rows × 3 columns</p>\n",
       "</div>"
      ],
      "text/plain": [
       "      probability  prediction  actual\n",
       "0        0.060901           0       0\n",
       "1        0.821598           1       1\n",
       "2        0.000151           0       0\n",
       "3        0.010014           0       0\n",
       "4        0.988829           1       1\n",
       "...           ...         ...     ...\n",
       "2378     0.136490           0       1\n",
       "2379     0.168751           0       0\n",
       "2380     0.015749           0       0\n",
       "2381     0.002382           0       0\n",
       "2382     0.147067           0       0\n",
       "\n",
       "[2383 rows x 3 columns]"
      ]
     },
     "execution_count": 88,
     "metadata": {},
     "output_type": "execute_result"
    }
   ],
   "source": [
    "df_pred"
   ]
  },
  {
   "cell_type": "code",
   "execution_count": 89,
   "id": "2aa7834a",
   "metadata": {},
   "outputs": [
    {
     "data": {
      "text/plain": [
       "0.93"
      ]
     },
     "execution_count": 89,
     "metadata": {},
     "output_type": "execute_result"
    }
   ],
   "source": [
    "df_pred['correct'] = df_pred.prediction == df_pred.actual\n",
    "round(df_pred.correct.mean(),2)"
   ]
  },
  {
   "cell_type": "markdown",
   "id": "0fbcb52a",
   "metadata": {},
   "source": [
    "#### Q4: Accuracy is 93%"
   ]
  },
  {
   "cell_type": "code",
   "execution_count": null,
   "id": "28c58a96",
   "metadata": {},
   "outputs": [],
   "source": []
  },
  {
   "cell_type": "markdown",
   "id": "bdee43e3",
   "metadata": {},
   "source": [
    "## Question 5\n",
    "Let's find the least useful feature using the feature elimination technique.\n",
    "Train a model with all these features (using the same parameters as in Q4).\n",
    "Now exclude each feature from this set and train a model without it. Record the accuracy for each model.\n",
    "For each feature, calculate the difference between the original accuracy and the accuracy without the feature.\n",
    "Which of following feature has the smallest difference?\n",
    "\n",
    "year\n",
    "engine_hp\n",
    "transmission_type\n",
    "city_mpg\n",
    "Note: the difference doesn't have to be positive"
   ]
  },
  {
   "cell_type": "code",
   "execution_count": null,
   "id": "a0c4751f",
   "metadata": {},
   "outputs": [],
   "source": [
    "categorical=['make', 'model', 'transmission_type', 'vehicle_style']\n",
    "numerical=['year','engine_hp', 'engine_cylinders', 'highway_mpg','city_mpg']"
   ]
  },
  {
   "cell_type": "code",
   "execution_count": 106,
   "id": "fcd5d11a",
   "metadata": {},
   "outputs": [],
   "source": [
    "def test_model(categorical, numerical):\n",
    "    dv = DictVectorizer(sparse=False)\n",
    "\n",
    "    train_dict = df_train[categorical + numerical].to_dict(orient='records')\n",
    "    X_train = dv.fit_transform(train_dict)\n",
    "\n",
    "    val_dict = df_val[categorical + numerical].to_dict(orient='records')\n",
    "    X_val = dv.transform(val_dict)\n",
    "\n",
    "    model = LogisticRegression(solver='liblinear', C=10, max_iter=1000, random_state=42)\n",
    "    model.fit(X_train, y_train)\n",
    "\n",
    "    y_pred = model.predict_proba(X_val)[:, 1]\n",
    "    decision = (y_pred >= 0.5)\n",
    "\n",
    "    df_pred = pd.DataFrame()\n",
    "    df_pred['probability'] = y_pred\n",
    "    df_pred['prediction'] = decision.astype(int)\n",
    "    df_pred['actual'] = y_val\n",
    "\n",
    "    df_pred['correct'] = df_pred.prediction == df_pred.actual\n",
    "    return round(df_pred.correct.mean(),4)"
   ]
  },
  {
   "cell_type": "code",
   "execution_count": 107,
   "id": "8b677ac8",
   "metadata": {},
   "outputs": [
    {
     "data": {
      "text/plain": [
       "0.9341"
      ]
     },
     "execution_count": 107,
     "metadata": {},
     "output_type": "execute_result"
    }
   ],
   "source": [
    "# categorical=['make', 'model', 'transmission_type', 'vehicle_style']\n",
    "# numerical=['year','engine_hp', 'engine_cylinders', 'highway_mpg','city_mpg']\n",
    "\n",
    "test_model(['make', 'model', 'transmission_type', 'vehicle_style']\n",
    "           , ['year', 'engine_hp', 'engine_cylinders', 'highway_mpg','city_mpg'])"
   ]
  },
  {
   "cell_type": "code",
   "execution_count": 108,
   "id": "c1817a3f",
   "metadata": {},
   "outputs": [
    {
     "data": {
      "text/plain": [
       "0.9534"
      ]
     },
     "execution_count": 108,
     "metadata": {},
     "output_type": "execute_result"
    }
   ],
   "source": [
    "#Year\n",
    "test_model(['make', 'model', 'transmission_type', 'vehicle_style']\n",
    "           , ['engine_hp', 'engine_cylinders', 'highway_mpg','city_mpg'])"
   ]
  },
  {
   "cell_type": "code",
   "execution_count": 109,
   "id": "acd93e7e",
   "metadata": {},
   "outputs": [
    {
     "data": {
      "text/plain": [
       "0.9052"
      ]
     },
     "execution_count": 109,
     "metadata": {},
     "output_type": "execute_result"
    }
   ],
   "source": [
    "#engine_hp\n",
    "test_model(['make', 'model', 'transmission_type', 'vehicle_style']\n",
    "           , ['year','engine_cylinders', 'highway_mpg','city_mpg'])"
   ]
  },
  {
   "cell_type": "code",
   "execution_count": 110,
   "id": "b92a0d34",
   "metadata": {},
   "outputs": [
    {
     "data": {
      "text/plain": [
       "0.9513"
      ]
     },
     "execution_count": 110,
     "metadata": {},
     "output_type": "execute_result"
    }
   ],
   "source": [
    "#transmission_type\n",
    "test_model(['make', 'model', 'vehicle_style']\n",
    "           , ['year','engine_hp', 'engine_cylinders', 'highway_mpg','city_mpg'])"
   ]
  },
  {
   "cell_type": "code",
   "execution_count": 111,
   "id": "a2a1d0e2",
   "metadata": {},
   "outputs": [
    {
     "data": {
      "text/plain": [
       "0.9496"
      ]
     },
     "execution_count": 111,
     "metadata": {},
     "output_type": "execute_result"
    }
   ],
   "source": [
    "#city_mpg\n",
    "test_model(['make', 'model', 'transmission_type', 'vehicle_style']\n",
    "           , ['year', 'engine_hp', 'engine_cylinders', 'highway_mpg'])"
   ]
  },
  {
   "cell_type": "markdown",
   "id": "74ba9580",
   "metadata": {},
   "source": [
    "#### Q5: city_mpg"
   ]
  },
  {
   "cell_type": "code",
   "execution_count": null,
   "id": "d36fcfcb",
   "metadata": {},
   "outputs": [],
   "source": []
  }
 ],
 "metadata": {
  "kernelspec": {
   "display_name": "Python 3 (ipykernel)",
   "language": "python",
   "name": "python3"
  },
  "language_info": {
   "codemirror_mode": {
    "name": "ipython",
    "version": 3
   },
   "file_extension": ".py",
   "mimetype": "text/x-python",
   "name": "python",
   "nbconvert_exporter": "python",
   "pygments_lexer": "ipython3",
   "version": "3.10.9"
  }
 },
 "nbformat": 4,
 "nbformat_minor": 5
}
