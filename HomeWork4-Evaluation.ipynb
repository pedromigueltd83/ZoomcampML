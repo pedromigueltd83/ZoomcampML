{
 "cells": [
  {
   "cell_type": "code",
   "execution_count": 1,
   "id": "7700f4fe",
   "metadata": {},
   "outputs": [],
   "source": [
    "import pandas as pd\n",
    "import numpy as np"
   ]
  },
  {
   "cell_type": "code",
   "execution_count": 2,
   "id": "8fce5814",
   "metadata": {},
   "outputs": [
    {
     "data": {
      "text/html": [
       "<div>\n",
       "<style scoped>\n",
       "    .dataframe tbody tr th:only-of-type {\n",
       "        vertical-align: middle;\n",
       "    }\n",
       "\n",
       "    .dataframe tbody tr th {\n",
       "        vertical-align: top;\n",
       "    }\n",
       "\n",
       "    .dataframe thead th {\n",
       "        text-align: right;\n",
       "    }\n",
       "</style>\n",
       "<table border=\"1\" class=\"dataframe\">\n",
       "  <thead>\n",
       "    <tr style=\"text-align: right;\">\n",
       "      <th></th>\n",
       "      <th>Make</th>\n",
       "      <th>Model</th>\n",
       "      <th>Year</th>\n",
       "      <th>Engine Fuel Type</th>\n",
       "      <th>Engine HP</th>\n",
       "      <th>Engine Cylinders</th>\n",
       "      <th>Transmission Type</th>\n",
       "      <th>Driven_Wheels</th>\n",
       "      <th>Number of Doors</th>\n",
       "      <th>Market Category</th>\n",
       "      <th>Vehicle Size</th>\n",
       "      <th>Vehicle Style</th>\n",
       "      <th>highway MPG</th>\n",
       "      <th>city mpg</th>\n",
       "      <th>Popularity</th>\n",
       "      <th>MSRP</th>\n",
       "    </tr>\n",
       "  </thead>\n",
       "  <tbody>\n",
       "    <tr>\n",
       "      <th>0</th>\n",
       "      <td>BMW</td>\n",
       "      <td>1 Series M</td>\n",
       "      <td>2011</td>\n",
       "      <td>premium unleaded (required)</td>\n",
       "      <td>335.0</td>\n",
       "      <td>6.0</td>\n",
       "      <td>MANUAL</td>\n",
       "      <td>rear wheel drive</td>\n",
       "      <td>2.0</td>\n",
       "      <td>Factory Tuner,Luxury,High-Performance</td>\n",
       "      <td>Compact</td>\n",
       "      <td>Coupe</td>\n",
       "      <td>26</td>\n",
       "      <td>19</td>\n",
       "      <td>3916</td>\n",
       "      <td>46135</td>\n",
       "    </tr>\n",
       "    <tr>\n",
       "      <th>1</th>\n",
       "      <td>BMW</td>\n",
       "      <td>1 Series</td>\n",
       "      <td>2011</td>\n",
       "      <td>premium unleaded (required)</td>\n",
       "      <td>300.0</td>\n",
       "      <td>6.0</td>\n",
       "      <td>MANUAL</td>\n",
       "      <td>rear wheel drive</td>\n",
       "      <td>2.0</td>\n",
       "      <td>Luxury,Performance</td>\n",
       "      <td>Compact</td>\n",
       "      <td>Convertible</td>\n",
       "      <td>28</td>\n",
       "      <td>19</td>\n",
       "      <td>3916</td>\n",
       "      <td>40650</td>\n",
       "    </tr>\n",
       "  </tbody>\n",
       "</table>\n",
       "</div>"
      ],
      "text/plain": [
       "  Make       Model  Year             Engine Fuel Type  Engine HP  \\\n",
       "0  BMW  1 Series M  2011  premium unleaded (required)      335.0   \n",
       "1  BMW    1 Series  2011  premium unleaded (required)      300.0   \n",
       "\n",
       "   Engine Cylinders Transmission Type     Driven_Wheels  Number of Doors  \\\n",
       "0               6.0            MANUAL  rear wheel drive              2.0   \n",
       "1               6.0            MANUAL  rear wheel drive              2.0   \n",
       "\n",
       "                         Market Category Vehicle Size Vehicle Style  \\\n",
       "0  Factory Tuner,Luxury,High-Performance      Compact         Coupe   \n",
       "1                     Luxury,Performance      Compact   Convertible   \n",
       "\n",
       "   highway MPG  city mpg  Popularity   MSRP  \n",
       "0           26        19        3916  46135  \n",
       "1           28        19        3916  40650  "
      ]
     },
     "execution_count": 2,
     "metadata": {},
     "output_type": "execute_result"
    }
   ],
   "source": [
    "df_carprice=pd.read_csv('data.txt')\n",
    "df_carprice.head(2)"
   ]
  },
  {
   "cell_type": "code",
   "execution_count": 3,
   "id": "ec50f529",
   "metadata": {},
   "outputs": [],
   "source": [
    "df_carprice = df_carprice[[\n",
    "    'Make',\n",
    "    'Model',\n",
    "    'Year',\n",
    "    'Engine HP',\n",
    "    'Engine Cylinders',\n",
    "    'Transmission Type',\n",
    "    'Vehicle Style',\n",
    "    'highway MPG',\n",
    "    'city mpg',\n",
    "    'MSRP'\n",
    "]]"
   ]
  },
  {
   "cell_type": "code",
   "execution_count": 4,
   "id": "3d4ff42c",
   "metadata": {},
   "outputs": [],
   "source": [
    "df_carprice.columns = df_carprice.columns.str.replace(' ', '_').str.lower()"
   ]
  },
  {
   "cell_type": "code",
   "execution_count": 5,
   "id": "679e3998",
   "metadata": {},
   "outputs": [
    {
     "data": {
      "text/plain": [
       "make                  0\n",
       "model                 0\n",
       "year                  0\n",
       "engine_hp            69\n",
       "engine_cylinders     30\n",
       "transmission_type     0\n",
       "vehicle_style         0\n",
       "highway_mpg           0\n",
       "city_mpg              0\n",
       "msrp                  0\n",
       "dtype: int64"
      ]
     },
     "execution_count": 5,
     "metadata": {},
     "output_type": "execute_result"
    }
   ],
   "source": [
    "df_carprice.isnull().sum()"
   ]
  },
  {
   "cell_type": "code",
   "execution_count": 6,
   "id": "4add488e",
   "metadata": {},
   "outputs": [
    {
     "data": {
      "text/plain": [
       "make                 0\n",
       "model                0\n",
       "year                 0\n",
       "engine_hp            0\n",
       "engine_cylinders     0\n",
       "transmission_type    0\n",
       "vehicle_style        0\n",
       "highway_mpg          0\n",
       "city_mpg             0\n",
       "msrp                 0\n",
       "dtype: int64"
      ]
     },
     "execution_count": 6,
     "metadata": {},
     "output_type": "execute_result"
    }
   ],
   "source": [
    "df_carprice=df_carprice.fillna(0)\n",
    "df_carprice.isnull().sum()"
   ]
  },
  {
   "cell_type": "code",
   "execution_count": 7,
   "id": "493c10fd",
   "metadata": {},
   "outputs": [],
   "source": [
    "def above_average(row):\n",
    "    if row['msrp'] > mean_price:\n",
    "        return 1\n",
    "    else:\n",
    "        return 0"
   ]
  },
  {
   "cell_type": "code",
   "execution_count": 8,
   "id": "f514bdfd",
   "metadata": {},
   "outputs": [
    {
     "data": {
      "text/html": [
       "<div>\n",
       "<style scoped>\n",
       "    .dataframe tbody tr th:only-of-type {\n",
       "        vertical-align: middle;\n",
       "    }\n",
       "\n",
       "    .dataframe tbody tr th {\n",
       "        vertical-align: top;\n",
       "    }\n",
       "\n",
       "    .dataframe thead th {\n",
       "        text-align: right;\n",
       "    }\n",
       "</style>\n",
       "<table border=\"1\" class=\"dataframe\">\n",
       "  <thead>\n",
       "    <tr style=\"text-align: right;\">\n",
       "      <th></th>\n",
       "      <th>above_average</th>\n",
       "    </tr>\n",
       "    <tr>\n",
       "      <th>above_average</th>\n",
       "      <th></th>\n",
       "    </tr>\n",
       "  </thead>\n",
       "  <tbody>\n",
       "    <tr>\n",
       "      <th>0</th>\n",
       "      <td>8645</td>\n",
       "    </tr>\n",
       "    <tr>\n",
       "      <th>1</th>\n",
       "      <td>3269</td>\n",
       "    </tr>\n",
       "  </tbody>\n",
       "</table>\n",
       "</div>"
      ],
      "text/plain": [
       "               above_average\n",
       "above_average               \n",
       "0                       8645\n",
       "1                       3269"
      ]
     },
     "execution_count": 8,
     "metadata": {},
     "output_type": "execute_result"
    }
   ],
   "source": [
    "mean_price=df_carprice['msrp'].mean()\n",
    "df_carprice['above_average'] = df_carprice.apply(above_average, axis=1)\n",
    "\n",
    "df_carprice.groupby(['above_average']).agg({'above_average':'count'})"
   ]
  },
  {
   "cell_type": "code",
   "execution_count": 9,
   "id": "c04b8738",
   "metadata": {},
   "outputs": [],
   "source": [
    "from sklearn.model_selection import train_test_split"
   ]
  },
  {
   "cell_type": "code",
   "execution_count": 10,
   "id": "ffc96a06",
   "metadata": {},
   "outputs": [],
   "source": [
    "df_full_train, df_test = train_test_split(df_carprice, test_size=0.2, random_state=1)\n",
    "df_train, df_val = train_test_split(df_full_train, test_size=0.25, random_state=1)"
   ]
  },
  {
   "cell_type": "code",
   "execution_count": 11,
   "id": "9618c818",
   "metadata": {},
   "outputs": [
    {
     "name": "stdout",
     "output_type": "stream",
     "text": [
      "7148 2383 2383\n"
     ]
    }
   ],
   "source": [
    "print(len(df_train), len(df_test), len(df_val))"
   ]
  },
  {
   "cell_type": "code",
   "execution_count": 12,
   "id": "f31ef841",
   "metadata": {},
   "outputs": [],
   "source": [
    "df_train = df_train.reset_index(drop=True)\n",
    "df_val = df_val.reset_index(drop=True)\n",
    "df_test = df_test.reset_index(drop=True)\n",
    "\n",
    "y_train = df_train.above_average.values\n",
    "y_val = df_val.above_average.values\n",
    "y_test = df_test.above_average.values\n",
    "\n",
    "del df_train['above_average']\n",
    "del df_val['above_average']\n",
    "del df_test['above_average']"
   ]
  },
  {
   "cell_type": "markdown",
   "id": "ce7e73c9",
   "metadata": {},
   "source": [
    "## Question 1: ROC AUC feature importance"
   ]
  },
  {
   "cell_type": "code",
   "execution_count": 13,
   "id": "23bb8a93",
   "metadata": {},
   "outputs": [
    {
     "name": "stdout",
     "output_type": "stream",
     "text": [
      "<class 'pandas.core.frame.DataFrame'>\n",
      "RangeIndex: 11914 entries, 0 to 11913\n",
      "Data columns (total 11 columns):\n",
      " #   Column             Non-Null Count  Dtype  \n",
      "---  ------             --------------  -----  \n",
      " 0   make               11914 non-null  object \n",
      " 1   model              11914 non-null  object \n",
      " 2   year               11914 non-null  int64  \n",
      " 3   engine_hp          11914 non-null  float64\n",
      " 4   engine_cylinders   11914 non-null  float64\n",
      " 5   transmission_type  11914 non-null  object \n",
      " 6   vehicle_style      11914 non-null  object \n",
      " 7   highway_mpg        11914 non-null  int64  \n",
      " 8   city_mpg           11914 non-null  int64  \n",
      " 9   msrp               11914 non-null  int64  \n",
      " 10  above_average      11914 non-null  int64  \n",
      "dtypes: float64(2), int64(5), object(4)\n",
      "memory usage: 1024.0+ KB\n"
     ]
    }
   ],
   "source": [
    "df_carprice.info()"
   ]
  },
  {
   "cell_type": "code",
   "execution_count": 14,
   "id": "84b111c4",
   "metadata": {},
   "outputs": [],
   "source": [
    "categorical=['make', 'model', 'transmission_type', 'vehicle_style']\n",
    "numerical=['year','engine_hp', 'engine_cylinders', 'highway_mpg','city_mpg']"
   ]
  },
  {
   "cell_type": "code",
   "execution_count": 15,
   "id": "a9cf6692",
   "metadata": {},
   "outputs": [],
   "source": [
    "from sklearn.feature_extraction import DictVectorizer\n",
    "\n",
    "dv = DictVectorizer(sparse=False)\n",
    "\n",
    "train_dict = df_train[categorical + numerical].to_dict(orient='records')\n",
    "X_train = dv.fit_transform(train_dict)\n",
    "\n",
    "val_dict = df_val[categorical + numerical].to_dict(orient='records')\n",
    "X_val = dv.transform(val_dict)"
   ]
  },
  {
   "cell_type": "code",
   "execution_count": 16,
   "id": "c8d1bf73",
   "metadata": {},
   "outputs": [
    {
     "data": {
      "text/html": [
       "<style>#sk-container-id-1 {color: black;background-color: white;}#sk-container-id-1 pre{padding: 0;}#sk-container-id-1 div.sk-toggleable {background-color: white;}#sk-container-id-1 label.sk-toggleable__label {cursor: pointer;display: block;width: 100%;margin-bottom: 0;padding: 0.3em;box-sizing: border-box;text-align: center;}#sk-container-id-1 label.sk-toggleable__label-arrow:before {content: \"▸\";float: left;margin-right: 0.25em;color: #696969;}#sk-container-id-1 label.sk-toggleable__label-arrow:hover:before {color: black;}#sk-container-id-1 div.sk-estimator:hover label.sk-toggleable__label-arrow:before {color: black;}#sk-container-id-1 div.sk-toggleable__content {max-height: 0;max-width: 0;overflow: hidden;text-align: left;background-color: #f0f8ff;}#sk-container-id-1 div.sk-toggleable__content pre {margin: 0.2em;color: black;border-radius: 0.25em;background-color: #f0f8ff;}#sk-container-id-1 input.sk-toggleable__control:checked~div.sk-toggleable__content {max-height: 200px;max-width: 100%;overflow: auto;}#sk-container-id-1 input.sk-toggleable__control:checked~label.sk-toggleable__label-arrow:before {content: \"▾\";}#sk-container-id-1 div.sk-estimator input.sk-toggleable__control:checked~label.sk-toggleable__label {background-color: #d4ebff;}#sk-container-id-1 div.sk-label input.sk-toggleable__control:checked~label.sk-toggleable__label {background-color: #d4ebff;}#sk-container-id-1 input.sk-hidden--visually {border: 0;clip: rect(1px 1px 1px 1px);clip: rect(1px, 1px, 1px, 1px);height: 1px;margin: -1px;overflow: hidden;padding: 0;position: absolute;width: 1px;}#sk-container-id-1 div.sk-estimator {font-family: monospace;background-color: #f0f8ff;border: 1px dotted black;border-radius: 0.25em;box-sizing: border-box;margin-bottom: 0.5em;}#sk-container-id-1 div.sk-estimator:hover {background-color: #d4ebff;}#sk-container-id-1 div.sk-parallel-item::after {content: \"\";width: 100%;border-bottom: 1px solid gray;flex-grow: 1;}#sk-container-id-1 div.sk-label:hover label.sk-toggleable__label {background-color: #d4ebff;}#sk-container-id-1 div.sk-serial::before {content: \"\";position: absolute;border-left: 1px solid gray;box-sizing: border-box;top: 0;bottom: 0;left: 50%;z-index: 0;}#sk-container-id-1 div.sk-serial {display: flex;flex-direction: column;align-items: center;background-color: white;padding-right: 0.2em;padding-left: 0.2em;position: relative;}#sk-container-id-1 div.sk-item {position: relative;z-index: 1;}#sk-container-id-1 div.sk-parallel {display: flex;align-items: stretch;justify-content: center;background-color: white;position: relative;}#sk-container-id-1 div.sk-item::before, #sk-container-id-1 div.sk-parallel-item::before {content: \"\";position: absolute;border-left: 1px solid gray;box-sizing: border-box;top: 0;bottom: 0;left: 50%;z-index: -1;}#sk-container-id-1 div.sk-parallel-item {display: flex;flex-direction: column;z-index: 1;position: relative;background-color: white;}#sk-container-id-1 div.sk-parallel-item:first-child::after {align-self: flex-end;width: 50%;}#sk-container-id-1 div.sk-parallel-item:last-child::after {align-self: flex-start;width: 50%;}#sk-container-id-1 div.sk-parallel-item:only-child::after {width: 0;}#sk-container-id-1 div.sk-dashed-wrapped {border: 1px dashed gray;margin: 0 0.4em 0.5em 0.4em;box-sizing: border-box;padding-bottom: 0.4em;background-color: white;}#sk-container-id-1 div.sk-label label {font-family: monospace;font-weight: bold;display: inline-block;line-height: 1.2em;}#sk-container-id-1 div.sk-label-container {text-align: center;}#sk-container-id-1 div.sk-container {/* jupyter's `normalize.less` sets `[hidden] { display: none; }` but bootstrap.min.css set `[hidden] { display: none !important; }` so we also need the `!important` here to be able to override the default hidden behavior on the sphinx rendered scikit-learn.org. See: https://github.com/scikit-learn/scikit-learn/issues/21755 */display: inline-block !important;position: relative;}#sk-container-id-1 div.sk-text-repr-fallback {display: none;}</style><div id=\"sk-container-id-1\" class=\"sk-top-container\"><div class=\"sk-text-repr-fallback\"><pre>LogisticRegression(C=10, max_iter=1000, random_state=42, solver=&#x27;liblinear&#x27;)</pre><b>In a Jupyter environment, please rerun this cell to show the HTML representation or trust the notebook. <br />On GitHub, the HTML representation is unable to render, please try loading this page with nbviewer.org.</b></div><div class=\"sk-container\" hidden><div class=\"sk-item\"><div class=\"sk-estimator sk-toggleable\"><input class=\"sk-toggleable__control sk-hidden--visually\" id=\"sk-estimator-id-1\" type=\"checkbox\" checked><label for=\"sk-estimator-id-1\" class=\"sk-toggleable__label sk-toggleable__label-arrow\">LogisticRegression</label><div class=\"sk-toggleable__content\"><pre>LogisticRegression(C=10, max_iter=1000, random_state=42, solver=&#x27;liblinear&#x27;)</pre></div></div></div></div></div>"
      ],
      "text/plain": [
       "LogisticRegression(C=10, max_iter=1000, random_state=42, solver='liblinear')"
      ]
     },
     "execution_count": 16,
     "metadata": {},
     "output_type": "execute_result"
    }
   ],
   "source": [
    "from sklearn.linear_model import LogisticRegression\n",
    "\n",
    "model = LogisticRegression(solver='liblinear', C=10, max_iter=1000, random_state=42)\n",
    "model.fit(X_train, y_train)"
   ]
  },
  {
   "cell_type": "code",
   "execution_count": 17,
   "id": "4fceac0d",
   "metadata": {},
   "outputs": [],
   "source": [
    "y_pred = model.predict_proba(X_val)[:, 1]"
   ]
  },
  {
   "cell_type": "code",
   "execution_count": null,
   "id": "298724a1",
   "metadata": {},
   "outputs": [],
   "source": []
  },
  {
   "cell_type": "code",
   "execution_count": 18,
   "id": "6010f8d4",
   "metadata": {},
   "outputs": [],
   "source": [
    "from sklearn.metrics import roc_auc_score"
   ]
  },
  {
   "cell_type": "code",
   "execution_count": 19,
   "id": "18c13a16",
   "metadata": {},
   "outputs": [
    {
     "data": {
      "text/plain": [
       "0.9796270846488133"
      ]
     },
     "execution_count": 19,
     "metadata": {},
     "output_type": "execute_result"
    }
   ],
   "source": [
    "roc_auc_score(y_val, y_pred)"
   ]
  },
  {
   "cell_type": "code",
   "execution_count": null,
   "id": "1cbc2cf5",
   "metadata": {},
   "outputs": [],
   "source": []
  },
  {
   "cell_type": "code",
   "execution_count": null,
   "id": "fe2dcf7f",
   "metadata": {},
   "outputs": [],
   "source": []
  },
  {
   "cell_type": "code",
   "execution_count": 20,
   "id": "8e01db33",
   "metadata": {},
   "outputs": [],
   "source": [
    "def calc_score(categorical, numerical):\n",
    "    dv = DictVectorizer(sparse=False)\n",
    "\n",
    "    train_dict = df_train[categorical + numerical].to_dict(orient='records')\n",
    "    X_train = dv.fit_transform(train_dict)\n",
    "\n",
    "    val_dict = df_val[categorical + numerical].to_dict(orient='records')\n",
    "    X_val = dv.transform(val_dict)\n",
    "\n",
    "    model = LogisticRegression(solver='liblinear', C=10, max_iter=1000, random_state=42)\n",
    "    model.fit(X_train, y_train)\n",
    "\n",
    "    y_pred = model.predict_proba(X_val)[:, 1]\n",
    "\n",
    "    return roc_auc_score(y_val, y_pred)"
   ]
  },
  {
   "cell_type": "code",
   "execution_count": null,
   "id": "31b85b7d",
   "metadata": {},
   "outputs": [],
   "source": []
  },
  {
   "cell_type": "code",
   "execution_count": 21,
   "id": "16da9a34",
   "metadata": {},
   "outputs": [
    {
     "data": {
      "text/plain": [
       "0.9697744714644763"
      ]
     },
     "execution_count": 21,
     "metadata": {},
     "output_type": "execute_result"
    }
   ],
   "source": [
    "categorical=['make', 'model', 'transmission_type', 'vehicle_style']\n",
    "# numerical=['year','engine_hp', 'engine_cylinders', 'highway_mpg','city_mpg']\n",
    "numerical=['year']\n",
    "\n",
    "calc_score(categorical, numerical)"
   ]
  },
  {
   "cell_type": "code",
   "execution_count": 22,
   "id": "bb34fdd0",
   "metadata": {},
   "outputs": [
    {
     "data": {
      "text/plain": [
       "0.9849075759264075"
      ]
     },
     "execution_count": 22,
     "metadata": {},
     "output_type": "execute_result"
    }
   ],
   "source": [
    "categorical=['make', 'model', 'transmission_type', 'vehicle_style']\n",
    "# numerical=['year','engine_hp', 'engine_cylinders', 'highway_mpg','city_mpg']\n",
    "numerical=['engine_hp']\n",
    "\n",
    "calc_score(categorical, numerical)"
   ]
  },
  {
   "cell_type": "code",
   "execution_count": 23,
   "id": "40de5e87",
   "metadata": {},
   "outputs": [
    {
     "data": {
      "text/plain": [
       "0.9829558016424265"
      ]
     },
     "execution_count": 23,
     "metadata": {},
     "output_type": "execute_result"
    }
   ],
   "source": [
    "categorical=['make', 'model', 'transmission_type', 'vehicle_style']\n",
    "# numerical=['year','engine_hp', 'engine_cylinders', 'highway_mpg','city_mpg']\n",
    "numerical=['engine_cylinders']\n",
    "\n",
    "calc_score(categorical, numerical)"
   ]
  },
  {
   "cell_type": "code",
   "execution_count": 24,
   "id": "cdc35471",
   "metadata": {},
   "outputs": [
    {
     "data": {
      "text/plain": [
       "0.981094673875939"
      ]
     },
     "execution_count": 24,
     "metadata": {},
     "output_type": "execute_result"
    }
   ],
   "source": [
    "categorical=['make', 'model', 'transmission_type', 'vehicle_style']\n",
    "# numerical=['year','engine_hp', 'engine_cylinders', 'highway_mpg','city_mpg']\n",
    "numerical=['highway_mpg']\n",
    "\n",
    "calc_score(categorical, numerical)"
   ]
  },
  {
   "cell_type": "code",
   "execution_count": 25,
   "id": "ae1b1cae",
   "metadata": {},
   "outputs": [
    {
     "data": {
      "text/plain": [
       "0.980020181010041"
      ]
     },
     "execution_count": 25,
     "metadata": {},
     "output_type": "execute_result"
    }
   ],
   "source": [
    "categorical=['make', 'model', 'transmission_type', 'vehicle_style']\n",
    "# numerical=['year','engine_hp', 'engine_cylinders', 'highway_mpg','city_mpg']\n",
    "numerical=['city_mpg']\n",
    "\n",
    "calc_score(categorical, numerical)"
   ]
  },
  {
   "cell_type": "markdown",
   "id": "25a61c6e",
   "metadata": {},
   "source": [
    "## Answer for Q1: engine_hp"
   ]
  },
  {
   "cell_type": "code",
   "execution_count": null,
   "id": "9be63193",
   "metadata": {},
   "outputs": [],
   "source": []
  },
  {
   "cell_type": "markdown",
   "id": "417b7191",
   "metadata": {},
   "source": [
    "## Question 2: Training the model"
   ]
  },
  {
   "cell_type": "code",
   "execution_count": 26,
   "id": "ac6c8444",
   "metadata": {},
   "outputs": [
    {
     "data": {
      "text/plain": [
       "0.9908137492637734"
      ]
     },
     "execution_count": 26,
     "metadata": {},
     "output_type": "execute_result"
    }
   ],
   "source": [
    "dv = DictVectorizer(sparse=False)\n",
    "\n",
    "# train_dict = df_train[categorical + numerical].to_dict(orient='records')\n",
    "# X_train = dv.fit_transform(train_dict)\n",
    "\n",
    "val_dict = df_val[categorical + numerical].to_dict(orient='records')\n",
    "X_val = dv.fit_transform(val_dict)\n",
    "\n",
    "model = LogisticRegression(solver='liblinear', C=10, max_iter=1000, random_state=42)\n",
    "model.fit(X_val, y_val)\n",
    "\n",
    "y_pred = model.predict_proba(X_val)[:, 1]\n",
    "\n",
    "roc_auc_score(y_val, y_pred)"
   ]
  },
  {
   "cell_type": "markdown",
   "id": "9f5c5897",
   "metadata": {},
   "source": [
    "## Answer for Q1: 0.979?"
   ]
  },
  {
   "cell_type": "code",
   "execution_count": null,
   "id": "196e213f",
   "metadata": {},
   "outputs": [],
   "source": []
  },
  {
   "cell_type": "markdown",
   "id": "197e9934",
   "metadata": {},
   "source": [
    "## Question 3: Precision and Recall"
   ]
  },
  {
   "cell_type": "code",
   "execution_count": 27,
   "id": "741d2ffd",
   "metadata": {},
   "outputs": [],
   "source": [
    "actual_positive = (y_val == 1)\n",
    "actual_negative = (y_val == 0)"
   ]
  },
  {
   "cell_type": "code",
   "execution_count": 28,
   "id": "dcaf4ed9",
   "metadata": {},
   "outputs": [],
   "source": [
    "t = 0.5\n",
    "predict_positive = (y_pred >= t)\n",
    "predict_negative = (y_pred < t)"
   ]
  },
  {
   "cell_type": "code",
   "execution_count": 29,
   "id": "ba6a18f1",
   "metadata": {},
   "outputs": [],
   "source": [
    "tp = (predict_positive & actual_positive).sum()\n",
    "tn = (predict_negative & actual_negative).sum()\n",
    "\n",
    "fp = (predict_positive & actual_negative).sum()\n",
    "fn = (predict_negative & actual_positive).sum()"
   ]
  },
  {
   "cell_type": "code",
   "execution_count": 30,
   "id": "8e64b638",
   "metadata": {},
   "outputs": [
    {
     "name": "stdout",
     "output_type": "stream",
     "text": [
      "0.9157566302652106 0.8975535168195719\n"
     ]
    }
   ],
   "source": [
    "p = tp / (tp + fp)\n",
    "r = tp / (tp + fn)\n",
    "print(p, r)"
   ]
  },
  {
   "cell_type": "code",
   "execution_count": 31,
   "id": "7b81571f",
   "metadata": {
    "scrolled": true
   },
   "outputs": [
    {
     "name": "stdout",
     "output_type": "stream",
     "text": [
      "0.0 0.27444397817876626 1.0\n",
      "0.01 0.3722253841775754 1.0\n",
      "0.02 0.4711815561959654 1.0\n",
      "0.03 0.5409429280397022 1.0\n",
      "0.04 0.6005509641873278 1.0\n",
      "0.05 0.6349514563106796 1.0\n",
      "0.06 0.6559679037111334 1.0\n",
      "0.07 0.6653102746693794 1.0\n",
      "0.08 0.6819603753910324 1.0\n",
      "0.09 0.6884210526315789 1.0\n",
      "0.1 0.692063492063492 1.0\n",
      "0.11 0.7067099567099567 0.9984709480122325\n",
      "0.12 0.7152245345016429 0.9984709480122325\n",
      "0.13 0.7265625 0.9954128440366973\n",
      "0.14 0.7453917050691244 0.9892966360856269\n",
      "0.15 0.7511627906976744 0.9877675840978594\n",
      "0.16 0.7561547479484173 0.9862385321100917\n",
      "0.17 0.7684964200477327 0.9847094801223242\n",
      "0.18 0.773109243697479 0.9847094801223242\n",
      "0.19 0.7822384428223844 0.9831804281345565\n",
      "0.2 0.8017565872020075 0.9770642201834863\n",
      "0.21 0.8078381795195955 0.9770642201834863\n",
      "0.22 0.8177150192554558 0.9740061162079511\n",
      "0.23 0.8206451612903226 0.9724770642201835\n",
      "0.24 0.8268229166666666 0.9709480122324159\n",
      "0.25 0.8335535006605019 0.9648318042813455\n",
      "0.26 0.8344370860927153 0.963302752293578\n",
      "0.27 0.8429530201342282 0.9602446483180428\n",
      "0.28 0.8486486486486486 0.9602446483180428\n",
      "0.29 0.8526603001364257 0.9556574923547401\n",
      "0.3 0.8524590163934426 0.9541284403669725\n",
      "0.31 0.8557692307692307 0.9525993883792049\n",
      "0.32 0.8557692307692307 0.9525993883792049\n",
      "0.33 0.8603042876901799 0.9510703363914373\n",
      "0.34 0.8693820224719101 0.9464831804281345\n",
      "0.35000000000000003 0.8714689265536724 0.9434250764525994\n",
      "0.36 0.8727015558698727 0.9434250764525994\n",
      "0.37 0.8727015558698727 0.9434250764525994\n",
      "0.38 0.8727015558698727 0.9434250764525994\n",
      "0.39 0.8762446657183499 0.9418960244648318\n",
      "0.4 0.8773181169757489 0.9403669724770642\n",
      "0.41000000000000003 0.8816738816738817 0.9342507645259939\n",
      "0.42 0.8815028901734104 0.9327217125382263\n",
      "0.43 0.8864628820960698 0.9311926605504587\n",
      "0.44 0.8900293255131965 0.9281345565749235\n",
      "0.45 0.8943452380952381 0.918960244648318\n",
      "0.46 0.9004524886877828 0.9128440366972477\n",
      "0.47000000000000003 0.9075500770416025 0.900611620795107\n",
      "0.48 0.910355486862442 0.900611620795107\n",
      "0.49 0.9144634525660964 0.8990825688073395\n",
      "0.5 0.9157566302652106 0.8975535168195719\n",
      "0.51 0.9210110584518167 0.8914373088685015\n",
      "0.52 0.9252782193958664 0.8899082568807339\n",
      "0.53 0.92914653784219 0.882262996941896\n",
      "0.54 0.9285714285714286 0.8746177370030581\n",
      "0.55 0.9312602291325696 0.8700305810397554\n",
      "0.56 0.9343185550082101 0.8700305810397554\n",
      "0.5700000000000001 0.9357495881383855 0.8685015290519877\n",
      "0.58 0.9403973509933775 0.8685015290519877\n",
      "0.59 0.9418604651162791 0.8669724770642202\n",
      "0.6 0.946917808219178 0.845565749235474\n",
      "0.61 0.946551724137931 0.8394495412844036\n",
      "0.62 0.9562171628721541 0.8348623853211009\n",
      "0.63 0.95929203539823 0.8287461773700305\n",
      "0.64 0.9622980251346499 0.8195718654434251\n",
      "0.65 0.9620938628158845 0.8149847094801224\n",
      "0.66 0.9653916211293261 0.8103975535168195\n",
      "0.67 0.9685185185185186 0.7996941896024465\n",
      "0.68 0.9736842105263158 0.7920489296636085\n",
      "0.6900000000000001 0.9753787878787878 0.7874617737003058\n",
      "0.7000000000000001 0.980806142034549 0.7813455657492355\n",
      "0.71 0.9823529411764705 0.7660550458715596\n",
      "0.72 0.9841269841269841 0.7584097859327217\n",
      "0.73 0.9898785425101214 0.7477064220183486\n",
      "0.74 0.9897959183673469 0.7415902140672783\n",
      "0.75 0.9917695473251029 0.7370030581039755\n",
      "0.76 0.9917184265010351 0.7324159021406728\n",
      "0.77 0.9917184265010351 0.7324159021406728\n",
      "0.78 0.9937629937629938 0.7308868501529052\n",
      "0.79 0.9937238493723849 0.7262996941896025\n",
      "0.8 0.9957894736842106 0.7232415902140673\n",
      "0.81 0.9978494623655914 0.709480122324159\n",
      "0.8200000000000001 0.9978213507625272 0.7003058103975535\n",
      "0.8300000000000001 1.0 0.6941896024464832\n",
      "0.84 1.0 0.6834862385321101\n",
      "0.85 1.0 0.6743119266055045\n",
      "0.86 1.0 0.6697247706422018\n",
      "0.87 1.0 0.6590214067278287\n",
      "0.88 1.0 0.6513761467889908\n",
      "0.89 1.0 0.6437308868501529\n",
      "0.9 1.0 0.6253822629969419\n",
      "0.91 1.0 0.5902140672782875\n",
      "0.92 1.0 0.5535168195718655\n",
      "0.93 1.0 0.5015290519877675\n",
      "0.9400000000000001 1.0 0.4740061162079511\n",
      "0.9500000000000001 1.0 0.41743119266055045\n",
      "0.96 1.0 0.3363914373088685\n",
      "0.97 1.0 0.24311926605504589\n",
      "0.98 1.0 0.12996941896024464\n",
      "0.99 1.0 0.035168195718654434\n",
      "1.0 nan 0.0\n"
     ]
    },
    {
     "name": "stderr",
     "output_type": "stream",
     "text": [
      "C:\\Users\\Pedro.dias\\AppData\\Local\\Temp\\ipykernel_19364\\2765712275.py:15: RuntimeWarning: invalid value encountered in long_scalars\n",
      "  p = tp / (tp + fp)\n"
     ]
    }
   ],
   "source": [
    "thresholds = np.linspace(0, 1, 101)\n",
    "\n",
    "precisions = []\n",
    "recalls = []\n",
    "\n",
    "for t in thresholds:\n",
    "    predict_positive = (y_pred >= t)\n",
    "    predict_negative = (y_pred < t)\n",
    "    \n",
    "    tp = (predict_positive & actual_positive).sum()\n",
    "    tn = (predict_negative & actual_negative).sum()\n",
    "    fp = (predict_positive & actual_negative).sum()\n",
    "    fn = (predict_negative & actual_positive).sum()\n",
    "    \n",
    "    p = tp / (tp + fp)\n",
    "    r = tp / (tp + fn)\n",
    "    \n",
    "    print(t, p, r)\n",
    "        \n",
    "    precisions.append(p)\n",
    "    recalls.append(r)"
   ]
  },
  {
   "cell_type": "code",
   "execution_count": 33,
   "id": "006264f6",
   "metadata": {},
   "outputs": [
    {
     "data": {
      "image/png": "[encoded data removed]",
      "text/plain": [
       "<Figure size 800x600 with 1 Axes>"
      ]
     },
     "metadata": {},
     "output_type": "display_data"
    }
   ],
   "source": [
    "import matplotlib.pyplot as plt\n",
    "plt.figure(figsize=(8, 6))\n",
    "plt.plot(thresholds, precisions, label='Precision', marker='')\n",
    "plt.plot(thresholds, recalls, label='Recall', marker='')\n",
    "plt.xlabel('Threshold')\n",
    "plt.ylabel('Value')\n",
    "plt.title('Precision and Recall vs. Threshold')\n",
    "plt.legend()\n",
    "plt.grid(True)\n",
    "plt.show()"
   ]
  },
  {
   "cell_type": "markdown",
   "id": "260d6036",
   "metadata": {},
   "source": [
    "## Answer for Q3: 0.48"
   ]
  },
  {
   "cell_type": "code",
   "execution_count": null,
   "id": "a19c77ec",
   "metadata": {},
   "outputs": [],
   "source": []
  },
  {
   "cell_type": "markdown",
   "id": "dddfdf61",
   "metadata": {},
   "source": [
    "## Question 4: F1 score"
   ]
  },
  {
   "cell_type": "code",
   "execution_count": 35,
   "id": "ba8a6950",
   "metadata": {},
   "outputs": [
    {
     "name": "stderr",
     "output_type": "stream",
     "text": [
      "C:\\Users\\Pedro.dias\\AppData\\Local\\Temp\\ipykernel_19364\\4146906372.py:16: RuntimeWarning: invalid value encountered in long_scalars\n",
      "  p = tp / (tp + fp)\n"
     ]
    }
   ],
   "source": [
    "thresholds = np.linspace(0, 1, 101)\n",
    "\n",
    "precisions = []\n",
    "recalls = []\n",
    "f1s = []\n",
    "\n",
    "for t in thresholds:\n",
    "    predict_positive = (y_pred >= t)\n",
    "    predict_negative = (y_pred < t)\n",
    "    \n",
    "    tp = (predict_positive & actual_positive).sum()\n",
    "    tn = (predict_negative & actual_negative).sum()\n",
    "    fp = (predict_positive & actual_negative).sum()\n",
    "    fn = (predict_negative & actual_positive).sum()\n",
    "    \n",
    "    p = tp / (tp + fp)\n",
    "    r = tp / (tp + fn)\n",
    "    f1 = 2 * ((p*r)/(p+r))\n",
    "        \n",
    "    precisions.append(p)\n",
    "    recalls.append(r)\n",
    "    f1s.append(f1)"
   ]
  },
  {
   "cell_type": "code",
   "execution_count": 38,
   "id": "7b400b85",
   "metadata": {},
   "outputs": [
    {
     "data": {
      "image/png": "[encoded data removed]",
      "text/plain": [
       "<Figure size 800x600 with 1 Axes>"
      ]
     },
     "metadata": {},
     "output_type": "display_data"
    }
   ],
   "source": [
    "# import matplotlib.pyplot as plt\n",
    "plt.figure(figsize=(8, 6))\n",
    "plt.plot(thresholds, f1s, label='F1s', marker='')\n",
    "plt.xlabel('Threshold')\n",
    "plt.ylabel('Value')\n",
    "plt.title('F1s')\n",
    "plt.legend()\n",
    "plt.grid(True)\n",
    "plt.show()"
   ]
  },
  {
   "cell_type": "code",
   "execution_count": 44,
   "id": "4c7ef8e3",
   "metadata": {},
   "outputs": [
    {
     "data": {
      "text/plain": [
       "44"
      ]
     },
     "execution_count": 44,
     "metadata": {},
     "output_type": "execute_result"
    }
   ],
   "source": [
    "max_value=max(f1s)\n",
    "f1s.index(max_value)"
   ]
  },
  {
   "cell_type": "code",
   "execution_count": 45,
   "id": "7185618c",
   "metadata": {},
   "outputs": [
    {
     "data": {
      "text/plain": [
       "0.44"
      ]
     },
     "execution_count": 45,
     "metadata": {},
     "output_type": "execute_result"
    }
   ],
   "source": [
    "thresholds[f1s.index(max_value)]"
   ]
  },
  {
   "cell_type": "markdown",
   "id": "1b5367e5",
   "metadata": {},
   "source": [
    "## Answer for Q4: 0.44??"
   ]
  },
  {
   "cell_type": "code",
   "execution_count": null,
   "id": "19021740",
   "metadata": {},
   "outputs": [],
   "source": []
  },
  {
   "cell_type": "markdown",
   "id": "cf6fc7f8",
   "metadata": {},
   "source": [
    "## Question 5: 5-Fold CV"
   ]
  },
  {
   "cell_type": "code",
   "execution_count": 47,
   "id": "abd58f00",
   "metadata": {},
   "outputs": [],
   "source": [
    "from sklearn.model_selection import KFold\n",
    "from tqdm.auto import tqdm"
   ]
  },
  {
   "cell_type": "code",
   "execution_count": 51,
   "id": "6b008669",
   "metadata": {},
   "outputs": [],
   "source": [
    "def train(df_train, y_train, C=1.0):\n",
    "    dicts = df_train[categorical + numerical].to_dict(orient='records')\n",
    "\n",
    "    dv = DictVectorizer(sparse=False)\n",
    "    X_train = dv.fit_transform(dicts)\n",
    "\n",
    "    model = LogisticRegression(solver='liblinear', C=C, max_iter=1000)\n",
    "    model.fit(X_train, y_train)\n",
    "    \n",
    "    return dv, model"
   ]
  },
  {
   "cell_type": "code",
   "execution_count": 52,
   "id": "fae4575e",
   "metadata": {},
   "outputs": [],
   "source": [
    "dv, model = train(df_train, y_train, C=0.001)"
   ]
  },
  {
   "cell_type": "code",
   "execution_count": 53,
   "id": "5574b739",
   "metadata": {},
   "outputs": [],
   "source": [
    "def predict(df, dv, model):\n",
    "    dicts = df[categorical + numerical].to_dict(orient='records')\n",
    "\n",
    "    X = dv.transform(dicts)\n",
    "    y_pred = model.predict_proba(X)[:, 1]\n",
    "\n",
    "    return y_pred"
   ]
  },
  {
   "cell_type": "code",
   "execution_count": 54,
   "id": "c912f220",
   "metadata": {},
   "outputs": [],
   "source": [
    "y_pred = predict(df_val, dv, model)"
   ]
  },
  {
   "cell_type": "code",
   "execution_count": 56,
   "id": "361c2a06",
   "metadata": {},
   "outputs": [
    {
     "name": "stdout",
     "output_type": "stream",
     "text": [
      "(0.9753278931365623, 0.0039658795845277876)\n"
     ]
    }
   ],
   "source": [
    "n_splits = 5\n",
    "\n",
    "kfold = KFold(n_splits=n_splits, shuffle=True, random_state=1)\n",
    "\n",
    "scores = []\n",
    "\n",
    "for train_idx, val_idx in kfold.split(df_full_train):\n",
    "    df_train = df_full_train.iloc[train_idx]\n",
    "    df_val = df_full_train.iloc[val_idx]\n",
    "\n",
    "    y_train = df_train.above_average.values\n",
    "    y_val = df_val.above_average.values\n",
    "\n",
    "    dv, model = train(df_train, y_train, C=1.0)\n",
    "    y_pred = predict(df_val, dv, model)\n",
    "\n",
    "    auc = roc_auc_score(y_val, y_pred)\n",
    "    scores.append(auc)\n",
    "\n",
    "print((np.mean(scores), np.std(scores)))"
   ]
  },
  {
   "cell_type": "markdown",
   "id": "6037a149",
   "metadata": {},
   "source": [
    "## Answer for Q5 is 0.004"
   ]
  },
  {
   "cell_type": "code",
   "execution_count": null,
   "id": "dfe1776d",
   "metadata": {},
   "outputs": [],
   "source": []
  },
  {
   "cell_type": "markdown",
   "id": "f4b61651",
   "metadata": {},
   "source": [
    "## Question 6: Hyperparemeter Tuning"
   ]
  },
  {
   "cell_type": "code",
   "execution_count": 57,
   "id": "324e3217",
   "metadata": {},
   "outputs": [
    {
     "data": {
      "application/vnd.jupyter.widget-view+json": {
       "model_id": "10d0ea3130f44e19b9d871481dcd7477",
       "version_major": 2,
       "version_minor": 0
      },
      "text/plain": [
       "  0%|          | 0/4 [00:00<?, ?it/s]"
      ]
     },
     "metadata": {},
     "output_type": "display_data"
    },
    {
     "name": "stdout",
     "output_type": "stream",
     "text": [
      "C=0.01 0.906 +- 0.008\n",
      "C=0.1 0.946 +- 0.007\n",
      "C=0.5 0.969 +- 0.005\n",
      "C=10 0.982 +- 0.002\n"
     ]
    }
   ],
   "source": [
    "n_splits = 5\n",
    "\n",
    "for C in tqdm([0.01, 0.1, 0.5, 10]):\n",
    "    kfold = KFold(n_splits=n_splits, shuffle=True, random_state=1)\n",
    "\n",
    "    scores = []\n",
    "\n",
    "    for train_idx, val_idx in kfold.split(df_full_train):\n",
    "        df_train = df_full_train.iloc[train_idx]\n",
    "        df_val = df_full_train.iloc[val_idx]\n",
    "\n",
    "        y_train = df_train.above_average.values\n",
    "        y_val = df_val.above_average.values\n",
    "\n",
    "        dv, model = train(df_train, y_train, C=C)\n",
    "        y_pred = predict(df_val, dv, model)\n",
    "\n",
    "        auc = roc_auc_score(y_val, y_pred)\n",
    "        scores.append(auc)\n",
    "\n",
    "    print('C=%s %.3f +- %.3f' % (C, np.mean(scores), np.std(scores)))"
   ]
  },
  {
   "cell_type": "markdown",
   "id": "aa86fec0",
   "metadata": {},
   "source": [
    "## Answer for Q6: C=10"
   ]
  }
 ],
 "metadata": {
  "kernelspec": {
   "display_name": "Python 3 (ipykernel)",
   "language": "python",
   "name": "python3"
  },
  "language_info": {
   "codemirror_mode": {
    "name": "ipython",
    "version": 3
   },
   "file_extension": ".py",
   "mimetype": "text/x-python",
   "name": "python",
   "nbconvert_exporter": "python",
   "pygments_lexer": "ipython3",
   "version": "3.10.9"
  }
 },
 "nbformat": 4,
 "nbformat_minor": 5
}
